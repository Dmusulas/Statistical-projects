{
 "cells": [
  {
   "cell_type": "markdown",
   "metadata": {},
   "source": [
    "# Pass exam problem\n"
   ]
  },
  {
   "cell_type": "markdown",
   "metadata": {},
   "source": [
    "Let's say we have 50 questions and to pass we need to answer half of them correctly. Each questions has a 4 answers and our agent guesses at random  Let's assume that all guesses are independent events.\n",
    "\\begin{align}\n",
    "p &= 0.25 \\\\\n",
    "N &= 50 \\\\\n",
    "X &= 25\n",
    "\\end{align}\n",
    "Where $p$ is probability to guess correctly, $N$ amount of questions (or trials) and $X$ is how many trials do we need to guess correctly. Then we are trying to calculate:\n",
    "\\begin{gather}\n",
    "P(X \\geq 25) \\Rightarrow 1-P(X \\leq 24)\\\\\n",
    "P(X \\geq 25) = 1 - \\sum_{i=1}^{24}  \\binom{50}{i} * 0.25^i * 0.75^{50-i}\n",
    "\\end{gather}"
   ]
  },
  {
   "cell_type": "code",
   "execution_count": 2,
   "metadata": {},
   "outputs": [
    {
     "name": "stdout",
     "output_type": "stream",
     "text": [
      "The probability to correctly guess half of the exam questions are approximately equal to 0.012251%\n"
     ]
    }
   ],
   "source": [
    "from scipy.stats import binom \n",
    "\n",
    "n = 50\n",
    "p = 0.25\n",
    "x = 24\n",
    "# defining X values\n",
    "k_values = list(range(n+1))\n",
    "# obtaining the mean and variance \n",
    "mean, var = binom.stats(n, p)\n",
    "# getting a distribution\n",
    "dist = [binom.pmf(k, n, p) for k in k_values]\n",
    "answer = 1 - binom.cdf(24,50, 0.25)\n",
    "\n",
    "print(f'The probability to correctly guess half of the exam questions are approximately equal to {answer:.6%}')"
   ]
  },
  {
   "cell_type": "markdown",
   "metadata": {},
   "source": [
    "So we can see that posibility to pass exam by sheer luck is not great. Let's look how Probability mass function looks like."
   ]
  },
  {
   "cell_type": "code",
   "execution_count": 9,
   "metadata": {},
   "outputs": [
    {
     "data": {
      "image/png": "[encoded data removed]",
      "text/plain": [
       "<Figure size 432x288 with 1 Axes>"
      ]
     },
     "metadata": {
      "needs_background": "light"
     },
     "output_type": "display_data"
    }
   ],
   "source": [
    "import matplotlib.pyplot as plt\n",
    "\n",
    "\n",
    "plt.bar(k_values, dist)\n",
    "plt.vlines(x, ymin= 0, ymax = 0.13, colors= \"red\")\n",
    "plt.xlabel(\"Number of correct guesses\")\n",
    "plt.ylabel(\"Probability, p\")\n",
    "plt.show()"
   ]
  }
 ],
 "metadata": {
  "kernelspec": {
   "display_name": "data_science_from_scratch",
   "language": "python",
   "name": "data_science_from_scratch"
  },
  "language_info": {
   "codemirror_mode": {
    "name": "ipython",
    "version": 3
   },
   "file_extension": ".py",
   "mimetype": "text/x-python",
   "name": "python",
   "nbconvert_exporter": "python",
   "pygments_lexer": "ipython3",
   "version": "3.9.7"
  }
 },
 "nbformat": 4,
 "nbformat_minor": 4
}
